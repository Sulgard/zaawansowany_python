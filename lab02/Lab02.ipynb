{
 "cells": [
  {
   "cell_type": "code",
   "execution_count": 1,
   "id": "27e31848-a978-4c76-8955-b7a380330a7e",
   "metadata": {},
   "outputs": [],
   "source": [
    "import csv"
   ]
  },
  {
   "cell_type": "code",
   "execution_count": 2,
   "id": "156059b2-7f88-43b5-8a3c-f7ab46565ca5",
   "metadata": {},
   "outputs": [
    {
     "name": "stdout",
     "output_type": "stream",
     "text": [
      "<module 'csv' from 'C:\\\\Users\\\\sulgard\\\\anaconda3\\\\Lib\\\\csv.py'>\n"
     ]
    }
   ],
   "source": [
    "print(csv)"
   ]
  },
  {
   "cell_type": "code",
   "execution_count": 3,
   "id": "f1079d05-3268-41bd-9942-e75ea1a31ef8",
   "metadata": {},
   "outputs": [],
   "source": [
    "orders = csv.reader(open(\"csvki/zamowienia.csv\", encoding='utf-8'), delimiter=';')\n",
    "orders = list(orders)"
   ]
  },
  {
   "cell_type": "code",
   "execution_count": 4,
   "id": "73d6af29-0b66-4a61-b1e2-180389b026a7",
   "metadata": {},
   "outputs": [
    {
     "name": "stdout",
     "output_type": "stream",
     "text": [
      "['Kraj', 'Sprzedawca', 'Data zamowienia', 'idZamowienia', 'Utarg']\n",
      "['Polska', 'Kowalski', '2003-07-16', '10248', '440.00']\n",
      "['Polska', 'Sowiński', '2003-07-10', '10249', '1863.40']\n",
      "['Niemcy', 'Peacock', '2003-07-12', '10250', '1552.60']\n",
      "['Niemcy', 'Leverling', '2003-07-15', '10251', '654.06']\n"
     ]
    }
   ],
   "source": [
    "for order in orders[:5]:\n",
    "    print(order)"
   ]
  },
  {
   "cell_type": "code",
   "execution_count": 5,
   "id": "83648485-c49a-46a9-9ab0-e926c3463d65",
   "metadata": {},
   "outputs": [
    {
     "name": "stdout",
     "output_type": "stream",
     "text": [
      "<class 'list'>\n"
     ]
    }
   ],
   "source": [
    "raw_arguments = orders[0]\n",
    "print(type(raw_arguments))"
   ]
  },
  {
   "cell_type": "code",
   "execution_count": 6,
   "id": "ef26abc7-9a6e-4e6b-9845-bf9e176f8acc",
   "metadata": {},
   "outputs": [
    {
     "name": "stdout",
     "output_type": "stream",
     "text": [
      "['kraj', 'sprzedawca', 'data_zamowienia', 'idzamowienia', 'utarg']\n"
     ]
    }
   ],
   "source": [
    "lower_arguments = [x.lower() for x in raw_arguments]\n",
    "lower_arguments = [x.replace(\" \", \"_\") for x in lower_arguments]\n",
    "\n",
    "print(lower_arguments)"
   ]
  },
  {
   "cell_type": "code",
   "execution_count": 7,
   "id": "24f1df5f-e52d-4eae-a87f-8b1e3cefce31",
   "metadata": {},
   "outputs": [],
   "source": [
    "from collections import namedtuple\n",
    "\n",
    "Order = namedtuple('Order', lower_arguments)\n",
    "o = map(Order._make, csv.reader(open(\"csvki/zamowienia.csv\", encoding='utf-8'), delimiter=';'))\n",
    "o = list(o)"
   ]
  },
  {
   "cell_type": "code",
   "execution_count": 8,
   "id": "5dec4723-616c-4a88-adef-a17f2cabf6b4",
   "metadata": {},
   "outputs": [
    {
     "name": "stdout",
     "output_type": "stream",
     "text": [
      "Order(kraj='Polska', sprzedawca='Kowalski', data_zamowienia='2003-07-16', idzamowienia='10248', utarg='440.00')\n",
      "Order(kraj='Polska', sprzedawca='Sowiński', data_zamowienia='2003-07-10', idzamowienia='10249', utarg='1863.40')\n",
      "Order(kraj='Niemcy', sprzedawca='Peacock', data_zamowienia='2003-07-12', idzamowienia='10250', utarg='1552.60')\n",
      "Order(kraj='Niemcy', sprzedawca='Leverling', data_zamowienia='2003-07-15', idzamowienia='10251', utarg='654.06')\n",
      "Order(kraj='Niemcy', sprzedawca='Peacock', data_zamowienia='2003-07-11', idzamowienia='10252', utarg='3597.90')\n",
      "Order(kraj='Niemcy', sprzedawca='Leverling', data_zamowienia='2003-07-16', idzamowienia='10253', utarg='1444.80')\n",
      "Order(kraj='Polska', sprzedawca='Kowalski', data_zamowienia='2003-07-23', idzamowienia='10254', utarg='556.62')\n",
      "Order(kraj='Polska', sprzedawca='Dudek', data_zamowienia='2003-07-15', idzamowienia='10255', utarg='2490.50')\n",
      "Order(kraj='Niemcy', sprzedawca='Leverling', data_zamowienia='2003-07-17', idzamowienia='10256', utarg='517.80')\n",
      "Order(kraj='Niemcy', sprzedawca='Peacock', data_zamowienia='2003-07-22', idzamowienia='10257', utarg='1119.90')\n"
     ]
    }
   ],
   "source": [
    "for x in o[1:11]:\n",
    "    print(x)"
   ]
  },
  {
   "cell_type": "markdown",
   "id": "0595bbbf-064c-443f-9558-6a6b37f5ae3a",
   "metadata": {},
   "source": [
    "## Zadanie1"
   ]
  },
  {
   "cell_type": "code",
   "execution_count": 9,
   "id": "2ef10849-e44e-4f79-969b-4ce8ac999e90",
   "metadata": {},
   "outputs": [],
   "source": [
    "sample = csv.reader(open(\"csvki/zamowienia.csv\", encoding='utf-8'), delimiter=';')\n",
    "l = list(sample)\n",
    "\n",
    "def tuple_task(data):\n",
    "    raw_args = data[0]\n",
    "    lower_args = [x.lower() for x in raw_args]\n",
    "    lower_args = [x.replace(\" \", \"_\") for x in lower_args]\n",
    "    Order = namedtuple('Order', lower_args)\n",
    "    result = map(Order._make, data)\n",
    "    result = list(result)\n",
    "    return result"
   ]
  },
  {
   "cell_type": "code",
   "execution_count": 10,
   "id": "0997d743-06fd-464b-a402-95d8d8a47a0f",
   "metadata": {},
   "outputs": [
    {
     "name": "stdout",
     "output_type": "stream",
     "text": [
      "Order(kraj='Polska', sprzedawca='Kowalski', data_zamowienia='2003-07-16', idzamowienia='10248', utarg='440.00')\n",
      "Order(kraj='Polska', sprzedawca='Sowiński', data_zamowienia='2003-07-10', idzamowienia='10249', utarg='1863.40')\n",
      "Order(kraj='Niemcy', sprzedawca='Peacock', data_zamowienia='2003-07-12', idzamowienia='10250', utarg='1552.60')\n",
      "Order(kraj='Niemcy', sprzedawca='Leverling', data_zamowienia='2003-07-15', idzamowienia='10251', utarg='654.06')\n",
      "Order(kraj='Niemcy', sprzedawca='Peacock', data_zamowienia='2003-07-11', idzamowienia='10252', utarg='3597.90')\n",
      "Order(kraj='Niemcy', sprzedawca='Leverling', data_zamowienia='2003-07-16', idzamowienia='10253', utarg='1444.80')\n",
      "Order(kraj='Polska', sprzedawca='Kowalski', data_zamowienia='2003-07-23', idzamowienia='10254', utarg='556.62')\n",
      "Order(kraj='Polska', sprzedawca='Dudek', data_zamowienia='2003-07-15', idzamowienia='10255', utarg='2490.50')\n",
      "Order(kraj='Niemcy', sprzedawca='Leverling', data_zamowienia='2003-07-17', idzamowienia='10256', utarg='517.80')\n",
      "Order(kraj='Niemcy', sprzedawca='Peacock', data_zamowienia='2003-07-22', idzamowienia='10257', utarg='1119.90')\n"
     ]
    }
   ],
   "source": [
    "o2 = tuple_task(l)\n",
    "\n",
    "for row in o2[1:11]:\n",
    "    print(row)"
   ]
  },
  {
   "cell_type": "markdown",
   "id": "c559bc3d-3707-4942-a176-ef8d2848fd74",
   "metadata": {},
   "source": [
    "### Zadanie 2"
   ]
  },
  {
   "cell_type": "code",
   "execution_count": 11,
   "id": "f81db852-60b6-4634-a591-492e0148116b",
   "metadata": {},
   "outputs": [],
   "source": [
    "Point = namedtuple('Point', ['x','y'], defaults=[0,0])\n",
    "p = Point(5, 3)\n",
    "p2 = Point(1, 1)\n",
    "p3 = Point()\n",
    "p4 = Point(1, 1)"
   ]
  },
  {
   "cell_type": "code",
   "execution_count": 12,
   "id": "77e36afa-ca84-461f-91b4-0fb81065a2c7",
   "metadata": {},
   "outputs": [
    {
     "name": "stdout",
     "output_type": "stream",
     "text": [
      "['__add__', '__class__', '__class_getitem__', '__contains__', '__delattr__', '__dir__', '__doc__', '__eq__', '__format__', '__ge__', '__getattribute__', '__getitem__', '__getnewargs__', '__getstate__', '__gt__', '__hash__', '__init__', '__init_subclass__', '__iter__', '__le__', '__len__', '__lt__', '__match_args__', '__module__', '__mul__', '__ne__', '__new__', '__reduce__', '__reduce_ex__', '__repr__', '__rmul__', '__setattr__', '__sizeof__', '__slots__', '__str__', '__subclasshook__', '_asdict', '_field_defaults', '_fields', '_make', '_replace', 'count', 'index', 'x', 'y']\n"
     ]
    }
   ],
   "source": [
    "print(dir(p2))"
   ]
  },
  {
   "cell_type": "code",
   "execution_count": 13,
   "id": "00fcc423-0c1c-43d0-ba5c-a72eb1f01b84",
   "metadata": {},
   "outputs": [
    {
     "name": "stdout",
     "output_type": "stream",
     "text": [
      "True\n",
      "False\n",
      "False\n",
      "False\n",
      "True\n",
      "True\n"
     ]
    }
   ],
   "source": [
    "print(p > p2)\n",
    "print(p == p3)\n",
    "print(p4 != p2)\n",
    "print(p2 < p4)\n",
    "print(p4 >= p2)\n",
    "print(p3 <= p)"
   ]
  },
  {
   "cell_type": "code",
   "execution_count": 14,
   "id": "81999bf8-934f-410e-8458-160a779a4e0b",
   "metadata": {},
   "outputs": [
    {
     "name": "stdout",
     "output_type": "stream",
     "text": [
      "(5, 3, 1, 1)\n"
     ]
    }
   ],
   "source": [
    "print(p + p2)"
   ]
  },
  {
   "cell_type": "code",
   "execution_count": 15,
   "id": "7f45c88d-4941-4b51-9402-87ccfd96f75c",
   "metadata": {},
   "outputs": [
    {
     "ename": "TypeError",
     "evalue": "unsupported operand type(s) for -: 'Point' and 'Point'",
     "output_type": "error",
     "traceback": [
      "\u001b[1;31m---------------------------------------------------------------------------\u001b[0m",
      "\u001b[1;31mTypeError\u001b[0m                                 Traceback (most recent call last)",
      "Cell \u001b[1;32mIn[15], line 1\u001b[0m\n\u001b[1;32m----> 1\u001b[0m \u001b[38;5;28mprint\u001b[39m(p \u001b[38;5;241m-\u001b[39m p2)\n",
      "\u001b[1;31mTypeError\u001b[0m: unsupported operand type(s) for -: 'Point' and 'Point'"
     ]
    }
   ],
   "source": [
    "print(p - p2)"
   ]
  },
  {
   "cell_type": "code",
   "execution_count": null,
   "id": "c5bf2120-3dd0-4c66-b7e9-47658f157278",
   "metadata": {},
   "outputs": [],
   "source": [
    "print(p * p4)"
   ]
  },
  {
   "cell_type": "code",
   "execution_count": null,
   "id": "6edbb9a1-01e5-42f0-ab2c-d2d55d674a7e",
   "metadata": {},
   "outputs": [],
   "source": [
    "print(p * 2)"
   ]
  },
  {
   "cell_type": "markdown",
   "id": "23cbc093-a7b0-4958-98ed-50e0eea59891",
   "metadata": {},
   "source": [
    "### Zadanie 3"
   ]
  },
  {
   "cell_type": "code",
   "execution_count": 21,
   "id": "e391294f-3f37-4e73-a809-13238e0bbe00",
   "metadata": {},
   "outputs": [],
   "source": [
    "slownik = {\n",
    "    1 : {\n",
    "        'class_name': 'Osoba', \n",
    "        'props': [('name', 'str'), ('is_admin', 'bool', 'False')]},\n",
    "    2 : {\n",
    "        'class_name': 'Produkt', \n",
    "        'props': [('name', 'str'), ('price', 'float', '0.0'), ('quantity', 'float', '0.0')]}\n",
    "    }"
   ]
  },
  {
   "cell_type": "code",
   "execution_count": 61,
   "id": "73f28e6d-a792-436f-8f3d-dc8292d9cf2b",
   "metadata": {},
   "outputs": [],
   "source": [
    "from dataclasses import dataclass, field, make_dataclass\n",
    "\n",
    "def class_from_dict(data):\n",
    "    class_name = data[\"class_name\"]\n",
    "    props = data[\"props\"]\n",
    "    return make_dataclass(class_name, props)\n",
    "\n",
    "        "
   ]
  },
  {
   "cell_type": "code",
   "execution_count": 58,
   "id": "98dda81c-a980-4305-ac6a-4eeb911d8425",
   "metadata": {},
   "outputs": [],
   "source": [
    "a = slownik[1]"
   ]
  },
  {
   "cell_type": "code",
   "execution_count": 59,
   "id": "92b8c265-df01-4b9c-ada3-bbe28d1eeaed",
   "metadata": {},
   "outputs": [],
   "source": [
    "b = a[\"class_name\"]"
   ]
  },
  {
   "cell_type": "code",
   "execution_count": 60,
   "id": "e3c260cd-10de-45c1-aa83-ef740519a628",
   "metadata": {},
   "outputs": [
    {
     "name": "stdout",
     "output_type": "stream",
     "text": [
      "Osoba\n"
     ]
    }
   ],
   "source": [
    "print(b)"
   ]
  },
  {
   "cell_type": "code",
   "execution_count": 62,
   "id": "215d65c8-f517-44aa-8fab-fb33d4045eed",
   "metadata": {},
   "outputs": [],
   "source": [
    "class1 = class_from_dict(slownik[1])"
   ]
  },
  {
   "cell_type": "code",
   "execution_count": 64,
   "id": "c83d2666-8aa9-4fc7-90ae-9e6b89c43420",
   "metadata": {},
   "outputs": [
    {
     "name": "stdout",
     "output_type": "stream",
     "text": [
      "{'is_admin': 'False', '__annotations__': {'name': 'str', 'is_admin': 'bool'}, '__module__': '__main__', '__dict__': <attribute '__dict__' of 'Osoba' objects>, '__weakref__': <attribute '__weakref__' of 'Osoba' objects>, '__doc__': \"Osoba(name: 'str', is_admin: 'bool' = 'False')\", '__dataclass_params__': _DataclassParams(init=True,repr=True,eq=True,order=False,unsafe_hash=False,frozen=False,match_args=True,kw_only=False,slots=False,weakref_slot=False), '__dataclass_fields__': {'name': Field(name='name',type='str',default=<dataclasses._MISSING_TYPE object at 0x0000025A721EF4D0>,default_factory=<dataclasses._MISSING_TYPE object at 0x0000025A721EF4D0>,init=True,repr=True,hash=None,compare=True,metadata=mappingproxy({}),kw_only=False,_field_type=_FIELD), 'is_admin': Field(name='is_admin',type='bool',default='False',default_factory=<dataclasses._MISSING_TYPE object at 0x0000025A721EF4D0>,init=True,repr=True,hash=None,compare=True,metadata=mappingproxy({}),kw_only=False,_field_type=_FIELD)}, '__init__': <function Osoba.__init__ at 0x0000025A776AA840>, '__repr__': <function Osoba.__repr__ at 0x0000025A776AAFC0>, '__eq__': <function Osoba.__eq__ at 0x0000025A776A9940>, '__hash__': None, '__match_args__': ('name', 'is_admin')}\n"
     ]
    }
   ],
   "source": [
    "print(class1.__dict__)"
   ]
  },
  {
   "cell_type": "code",
   "execution_count": 65,
   "id": "ed5963dc-8b0b-4a30-b32e-4df732a0dbd2",
   "metadata": {},
   "outputs": [],
   "source": [
    "class2 = class_from_dict(slownik[2])"
   ]
  },
  {
   "cell_type": "code",
   "execution_count": 71,
   "id": "f27800e6-aad5-4b56-8dd3-ef55c1550f70",
   "metadata": {},
   "outputs": [
    {
     "name": "stdout",
     "output_type": "stream",
     "text": [
      "0.0\n"
     ]
    }
   ],
   "source": [
    "print(class2.price)"
   ]
  },
  {
   "cell_type": "code",
   "execution_count": 72,
   "id": "16c39473-9ee0-44af-b2a5-06b417f45789",
   "metadata": {},
   "outputs": [
    {
     "name": "stdout",
     "output_type": "stream",
     "text": [
      "0.0\n"
     ]
    }
   ],
   "source": [
    "print(class2.quantity)"
   ]
  },
  {
   "cell_type": "code",
   "execution_count": 73,
   "id": "73002fc8-8c48-40b3-9af7-52a6b297b3ea",
   "metadata": {},
   "outputs": [
    {
     "name": "stdout",
     "output_type": "stream",
     "text": [
      "False\n"
     ]
    }
   ],
   "source": [
    "print(class1.is_admin)"
   ]
  },
  {
   "cell_type": "code",
   "execution_count": null,
   "id": "d2c31271-99cd-4677-8bcf-36a88ea76778",
   "metadata": {},
   "outputs": [],
   "source": []
  }
 ],
 "metadata": {
  "kernelspec": {
   "display_name": "Python 3 (ipykernel)",
   "language": "python",
   "name": "python3"
  },
  "language_info": {
   "codemirror_mode": {
    "name": "ipython",
    "version": 3
   },
   "file_extension": ".py",
   "mimetype": "text/x-python",
   "name": "python",
   "nbconvert_exporter": "python",
   "pygments_lexer": "ipython3",
   "version": "3.12.7"
  }
 },
 "nbformat": 4,
 "nbformat_minor": 5
}
