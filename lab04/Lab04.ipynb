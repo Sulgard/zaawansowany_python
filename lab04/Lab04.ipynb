{
 "cells": [
  {
   "cell_type": "markdown",
   "id": "729de7e3-5136-4c15-b552-2784053397eb",
   "metadata": {},
   "source": [
    "## Zadanie 1"
   ]
  },
  {
   "cell_type": "code",
   "execution_count": 17,
   "id": "028055ac-c8ea-4235-9e6e-14d284c75eb9",
   "metadata": {},
   "outputs": [
    {
     "name": "stdout",
     "output_type": "stream",
     "text": [
      " Data: 2025-03-17 11:55:18.655524 Funkcja: test Argumenty: {'first_name': 'john', 'last_name': 'doe'} \n"
     ]
    }
   ],
   "source": [
    "import datetime\n",
    "import inspect\n",
    "\n",
    "def logger(obj):\n",
    "    def wrapper(*args, **kwargs):\n",
    "        signature = obj.__code__.co_varnames\n",
    "        k = [key for key in signature]\n",
    "        d = dict(zip(k, args))\n",
    "        print(f\" Data: {datetime.datetime.now()} Funkcja: {obj.__name__} Argumenty: {d} \")\n",
    "    return wrapper\n",
    "\n",
    "@logger\n",
    "def test(first_name: str, last_name: str):\n",
    "    return f\"{first_name}, {last_name}\"\n",
    "\n",
    "test(\"john\", \"doe\")"
   ]
  },
  {
   "cell_type": "markdown",
   "id": "70320fc8-08f6-4360-afd7-e1c1d2e55790",
   "metadata": {},
   "source": [
    "## Zadanie 2"
   ]
  },
  {
   "cell_type": "code",
   "execution_count": 35,
   "id": "2d6bdfee-46d0-4657-a3ab-4d0a696e6c30",
   "metadata": {},
   "outputs": [
    {
     "name": "stdout",
     "output_type": "stream",
     "text": [
      "User 123 deleted\n"
     ]
    }
   ],
   "source": [
    "from functools import wraps\n",
    "\n",
    "def require_permission(permission):\n",
    "    def inner(func):\n",
    "        def wrapper(user, *args, **kwargs):\n",
    "            if isinstance(user, User):\n",
    "                if user.has_permission(permission):\n",
    "                    return func(user, *args, **kwargs)\n",
    "                else:\n",
    "                    return f\"User has no 'admin' permission\"\n",
    "            else:\n",
    "                raise Exception(\"Not User class\")\n",
    "\n",
    "        return wrapper\n",
    "    return inner\n",
    "\n",
    "class User:\n",
    "    def __init__(self, permissions):\n",
    "        self.permissions = permissions\n",
    "\n",
    "    def has_permission(self, permission):\n",
    "        return permission in self.permissions\n",
    "\n",
    "@require_permission('admin')\n",
    "def delete_user(user, user_id):\n",
    "    print(f\"User {user_id} deleted\")\n",
    "\n",
    "# Przykładowe wywołanie\n",
    "admin_user = User(permissions=['admin'])\n",
    "delete_user(admin_user, 123)"
   ]
  },
  {
   "cell_type": "markdown",
   "id": "16977668-423b-4c69-b900-32b2d0776858",
   "metadata": {},
   "source": [
    "## Zadanie 3"
   ]
  },
  {
   "cell_type": "code",
   "execution_count": 41,
   "id": "d30c4668-552e-4352-8a5c-bd326eeb73bc",
   "metadata": {},
   "outputs": [],
   "source": [
    "def singleton(cls):\n",
    "    instances = {}\n",
    "    def getinstance(*args, **kwargs):\n",
    "        if cls not in instances:\n",
    "            instances[cls] = cls(*args, **kwargs)\n",
    "        return instances[cls]\n",
    "    return getinstance\n",
    "    "
   ]
  },
  {
   "cell_type": "code",
   "execution_count": 44,
   "id": "ed0e7728-904f-4bbc-8ef5-78d334dcbcd4",
   "metadata": {},
   "outputs": [
    {
     "data": {
      "text/plain": [
       "True"
      ]
     },
     "execution_count": 44,
     "metadata": {},
     "output_type": "execute_result"
    }
   ],
   "source": [
    "@singleton\n",
    "class Point:\n",
    "    def __init__(self, x):\n",
    "        self.x = x\n",
    "p1 = Point(1)\n",
    "p2 = Point(2)\n",
    "p1 is p2"
   ]
  }
 ],
 "metadata": {
  "kernelspec": {
   "display_name": "Python 3 (ipykernel)",
   "language": "python",
   "name": "python3"
  },
  "language_info": {
   "codemirror_mode": {
    "name": "ipython",
    "version": 3
   },
   "file_extension": ".py",
   "mimetype": "text/x-python",
   "name": "python",
   "nbconvert_exporter": "python",
   "pygments_lexer": "ipython3",
   "version": "3.12.7"
  }
 },
 "nbformat": 4,
 "nbformat_minor": 5
}
