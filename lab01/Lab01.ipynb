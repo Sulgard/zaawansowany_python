{
 "cells": [
  {
   "cell_type": "markdown",
   "id": "999160f5-bce6-40db-9ae8-f9f256c48f5b",
   "metadata": {},
   "source": [
    "## Zadanie 1"
   ]
  },
  {
   "cell_type": "code",
   "execution_count": 24,
   "id": "844c5bcd-25dd-4782-b357-b82ddfa00e15",
   "metadata": {},
   "outputs": [],
   "source": [
    "class Figure:\n",
    "\n",
    "    def __init__(self):\n",
    "        raise NotImplementedError(\"Należy zaimplementować tę metodę\")\n",
    "    def get_area(self): \n",
    "        raise NotImplementedError(\"Należy zaimplementować tę metodę\")\n",
    "    def get_circumferenc(self):\n",
    "        raise NotImplementedError(\"Należy zaimplementować tę metodę\")"
   ]
  },
  {
   "cell_type": "code",
   "execution_count": 27,
   "id": "061d32b6-9fe3-4ada-930d-4adb18e7ed4b",
   "metadata": {},
   "outputs": [],
   "source": [
    "\n",
    "class Square(Figure):\n",
    "    \"\"\" Klasa do obsługi figury typu kwadrat\"\"\"\n",
    "\n",
    "    def __init__(self, side=1):\n",
    "        self.side = side\n",
    "\n",
    "    def get_area(self):\n",
    "        return self.side ** 2\n",
    "    \n",
    "    def __str__(self) -> str:\n",
    "        return f\"Square({self.side})\"\n",
    "\n",
    "    def __add__(self, other):\n",
    "        import math\n",
    "        if isinstance(other, type(self)):\n",
    "            new_side = math.sqrt(self.side**2 + other.side**2)\n",
    "            return type(self)(new_side)\n",
    "        elif isinstance(other, int):\n",
    "            new_side = math.sqrt(self.side**2 + other**2)\n",
    "            return type(self)(new_side)\n",
    "        else:\n",
    "            raise TypeError(\n",
    "                \"unsupported operand for +: \"\n",
    "                f\"'{type(self).__name__}' and '{type(other).__name__}'\"\n",
    "            )\n",
    "            \n",
    "    def __iadd__(self, other):\n",
    "        import math\n",
    "        if isinstance(other, type(self)):\n",
    "            new_side = math.sqrt(self.side**2 + other.side**2)\n",
    "            return type(self)(new_side)\n",
    "        elif isinstance(other, int):\n",
    "            new_side = math.sqrt(self.side**2 + other**2)\n",
    "            return type(self)(new_side)\n",
    "        else:\n",
    "            raise TypeError(\n",
    "                \"unsupported operand for +: \"\n",
    "                f\"'{type(self).__name__}' and '{type(other).__name__}'\"\n",
    "            )\n",
    "\n",
    "    def __radd__(self, other):\n",
    "        import math\n",
    "        if isinstance(other, int):\n",
    "            new_side = math.sqrt(self.side**2 + other**2)\n",
    "            return type(self)(new_side)\n",
    "    \n",
    "    def __mul__(self, scale: int | float):\n",
    "        return Square(self.side * scale)\n",
    "    \n",
    "    def __truediv__(self, scale: int | float):\n",
    "        return Square(self.side / scale)\n",
    "    \n",
    "    def __eq__(self, other):\n",
    "        if isinstance(other, Square):\n",
    "        # lub\n",
    "        # if isinstance(other, type(self)):\n",
    "            return self.side == other.side\n",
    "        return False"
   ]
  },
  {
   "cell_type": "markdown",
   "id": "799697a7-8960-46c7-a79f-74e50d3f3cfc",
   "metadata": {},
   "source": [
    "### Test"
   ]
  },
  {
   "cell_type": "code",
   "execution_count": 28,
   "id": "b0df402c-498e-46ec-b32c-5d433bcd849a",
   "metadata": {},
   "outputs": [
    {
     "name": "stdout",
     "output_type": "stream",
     "text": [
      "25\n",
      "1\n",
      "Typ zmiennej x to: <class 'int'>\n",
      "Typ zmiennej y to: <class 'float'>\n",
      "1\n",
      "Square(5.0990195135927845)\n",
      "Square(5.0990195135927845)\n",
      "Square(5.0990195135927845)\n",
      "1\n"
     ]
    }
   ],
   "source": [
    "if __name__ == \"__main__\":\n",
    "    s = Square()\n",
    "    s2 = Square(5)\n",
    "    print(s2.get_area())\n",
    "    print(s.get_area())\n",
    "    \n",
    "    x = 5\n",
    "    y = 3.5\n",
    "    \n",
    "    print(\"Typ zmiennej x to:\", type(x))\n",
    "    print(\"Typ zmiennej y to:\", type(y))\n",
    "    print(s.get_area())\n",
    "    print(s.__radd__(x)) \n",
    "    print(s.__add__(x)) \n",
    "    print(s.__iadd__(x))\n",
    "    # print(s.__add__(y)) Tutaj wyrzuci blad\n",
    "    print(s.side)\n"
   ]
  },
  {
   "cell_type": "markdown",
   "id": "bd31557b-1079-4e48-8c3a-612005d1e538",
   "metadata": {},
   "source": [
    "## Zadanie 2"
   ]
  },
  {
   "cell_type": "code",
   "execution_count": 35,
   "id": "c5aa503a-412a-45bd-988b-3cae23f6cb6c",
   "metadata": {},
   "outputs": [],
   "source": [
    "class Circle(Figure):\n",
    "\n",
    "    def __init__(self, radius):\n",
    "        self.radius = radius\n",
    "\n",
    "    def get_circumferenc(self):\n",
    "        import math\n",
    "        return 2 * math.pi * self.radius\n",
    "\n",
    "    def __gt__(self, other):\n",
    "        return self.get_circumferenc() > other.get_circumferenc()\n",
    "\n",
    "    def __lt__(self, other):\n",
    "        return self.get_circumferenc() < other.get_circumferenc()\n"
   ]
  },
  {
   "cell_type": "markdown",
   "id": "551484ba-dd1a-41d4-ac17-24ff790e6f58",
   "metadata": {},
   "source": [
    "### Test dla koła"
   ]
  },
  {
   "cell_type": "code",
   "execution_count": 38,
   "id": "db008c73-42dd-4076-a37c-ee008c97ad51",
   "metadata": {},
   "outputs": [
    {
     "name": "stdout",
     "output_type": "stream",
     "text": [
      "3\n",
      "18.84955592153876\n",
      "False\n",
      "True\n"
     ]
    }
   ],
   "source": [
    "c = Circle(3)\n",
    "print(c.radius)\n",
    "print(c.get_circumferenc())\n",
    "c2 = Circle(4)\n",
    "\n",
    "print(c.__gt__(c2))\n",
    "print(c.__lt__(c2))"
   ]
  },
  {
   "cell_type": "code",
   "execution_count": 39,
   "id": "8b7df9d7-cb74-4438-a4de-0376808f0ed6",
   "metadata": {},
   "outputs": [],
   "source": [
    "class Square(Figure):\n",
    "    \"\"\" Klasa do obsługi figury typu kwadrat\"\"\"\n",
    "\n",
    "    def __init__(self, side=1):\n",
    "        self.side = side\n",
    "    \n",
    "    def __str__(self) -> str:\n",
    "        return f\"Square({self.side})\"\n",
    "    \n",
    "    def __add__(this, other):\n",
    "        import math\n",
    "        if isinstance(other, type(this)):\n",
    "            new_side = math.sqrt(this.side**2 + other.side**2)\n",
    "            return type(this)(new_side)\n",
    "        else:\n",
    "            raise TypeError(\n",
    "                \"unsupported operand for +: \"\n",
    "                f\"'{type(this).__name__}' and '{type(other).__name__}'\"\n",
    "            )\n",
    "    \n",
    "    def __mul__(self, scale: int | float):\n",
    "        return Square(self.side * scale)\n",
    "    \n",
    "    def __truediv__(self, scale: int | float):\n",
    "        return Square(self.side / scale)\n",
    "    \n",
    "    def __eq__(self, other):\n",
    "        if isinstance(other, Square):\n",
    "        # lub\n",
    "        # if isinstance(other, type(self)):\n",
    "            return self.side == other.side\n",
    "        return False\n",
    "    \n",
    "    def get_circumferenc(self):\n",
    "        import math\n",
    "        return self.side * 4\n",
    "    \n",
    "        \n",
    "    def __gt__(self, other):\n",
    "        return self.get_circumferenc() > other.get_circumferenc()\n",
    "    \n",
    "    def __lt__(self, other):\n",
    "        return self.get_circumferenc() < other.get_circumferenc()\n"
   ]
  },
  {
   "cell_type": "markdown",
   "id": "18865acc-2a66-4255-8aa8-8094b36a4198",
   "metadata": {},
   "source": [
    "### Test dla kwadratu"
   ]
  },
  {
   "cell_type": "code",
   "execution_count": 42,
   "id": "92b4ad00-ef2a-4cab-917e-6e28899446f4",
   "metadata": {},
   "outputs": [
    {
     "name": "stdout",
     "output_type": "stream",
     "text": [
      "20\n",
      "12\n",
      "True\n",
      "True\n"
     ]
    }
   ],
   "source": [
    "s = Square(5)\n",
    "s2 = Square(3)\n",
    "\n",
    "print(s.get_circumferenc())\n",
    "print(s2.get_circumferenc())\n",
    "\n",
    "print(s.__gt__(s2))\n",
    "print(s2.__lt__(s))"
   ]
  },
  {
   "cell_type": "markdown",
   "id": "7159f505-0c57-4e7b-802f-cf944b3072d7",
   "metadata": {},
   "source": [
    "## Zadanie 3 "
   ]
  },
  {
   "cell_type": "code",
   "execution_count": 75,
   "id": "bc0aed22-9bca-4651-9f38-9912fd631545",
   "metadata": {},
   "outputs": [],
   "source": [
    "class Field:\n",
    "\n",
    "    def __init__(self, value):\n",
    "        self.value = value\n",
    "    \n",
    "    def __str__(self):\n",
    "        return f\"Field({self.value})\"\n",
    "    \n",
    "    def __repr__(self):\n",
    "        return self.__str__()\n",
    "    \n",
    "    def __eq__(self, other):\n",
    "        if isinstance(other, type(self)):\n",
    "            return self.value == other.value\n",
    "        else:\n",
    "            return False\n",
    "\n",
    "    def __setattr__(self, name, value):\n",
    "        if isinstance(value, int):\n",
    "            if 10<= value <= 2000:\n",
    "                self.__dict__[name] = value\n",
    "            else:\n",
    "                raise ValueError(f\"Value for {name} must be in range between 10-2000\")\n",
    "        elif isinstance(value, str):\n",
    "            self.__dict__[name] = value\n",
    "        else:\n",
    "            raise TypeError(f\"Value for {name} must be either type of int or string\")\n"
   ]
  },
  {
   "cell_type": "code",
   "execution_count": 76,
   "id": "c1212b48-ed34-4474-a817-d35ae73f6445",
   "metadata": {},
   "outputs": [],
   "source": [
    "### Test"
   ]
  },
  {
   "cell_type": "code",
   "execution_count": 77,
   "id": "efa3ad48-a233-4916-8c19-c780f949ba21",
   "metadata": {},
   "outputs": [
    {
     "ename": "TypeError",
     "evalue": "Value for value must be either type of int or string",
     "output_type": "error",
     "traceback": [
      "\u001b[1;31m---------------------------------------------------------------------------\u001b[0m",
      "\u001b[1;31mTypeError\u001b[0m                                 Traceback (most recent call last)",
      "Cell \u001b[1;32mIn[77], line 1\u001b[0m\n\u001b[1;32m----> 1\u001b[0m f \u001b[38;5;241m=\u001b[39m Field(\u001b[38;5;241m3.5\u001b[39m)\n\u001b[0;32m      3\u001b[0m \u001b[38;5;28mprint\u001b[39m(f\u001b[38;5;241m.\u001b[39mvalue)\n",
      "Cell \u001b[1;32mIn[75], line 4\u001b[0m, in \u001b[0;36mField.__init__\u001b[1;34m(self, value)\u001b[0m\n\u001b[0;32m      3\u001b[0m \u001b[38;5;28;01mdef\u001b[39;00m \u001b[38;5;21m__init__\u001b[39m(\u001b[38;5;28mself\u001b[39m, value):\n\u001b[1;32m----> 4\u001b[0m     \u001b[38;5;28mself\u001b[39m\u001b[38;5;241m.\u001b[39mvalue \u001b[38;5;241m=\u001b[39m value\n",
      "Cell \u001b[1;32mIn[75], line 27\u001b[0m, in \u001b[0;36mField.__setattr__\u001b[1;34m(self, name, value)\u001b[0m\n\u001b[0;32m     25\u001b[0m     \u001b[38;5;28mself\u001b[39m\u001b[38;5;241m.\u001b[39m\u001b[38;5;18m__dict__\u001b[39m[name] \u001b[38;5;241m=\u001b[39m value\n\u001b[0;32m     26\u001b[0m \u001b[38;5;28;01melse\u001b[39;00m:\n\u001b[1;32m---> 27\u001b[0m     \u001b[38;5;28;01mraise\u001b[39;00m \u001b[38;5;167;01mTypeError\u001b[39;00m(\u001b[38;5;124mf\u001b[39m\u001b[38;5;124m\"\u001b[39m\u001b[38;5;124mValue for \u001b[39m\u001b[38;5;132;01m{\u001b[39;00mname\u001b[38;5;132;01m}\u001b[39;00m\u001b[38;5;124m must be either type of int or string\u001b[39m\u001b[38;5;124m\"\u001b[39m)\n",
      "\u001b[1;31mTypeError\u001b[0m: Value for value must be either type of int or string"
     ]
    }
   ],
   "source": [
    "f = Field(3.5)\n",
    "\n",
    "print(f.value)"
   ]
  },
  {
   "cell_type": "code",
   "execution_count": 78,
   "id": "08f44be9-c5b6-4414-97a4-9f68e92628b6",
   "metadata": {},
   "outputs": [
    {
     "ename": "ValueError",
     "evalue": "Value for value must be in range between 10-2000",
     "output_type": "error",
     "traceback": [
      "\u001b[1;31m---------------------------------------------------------------------------\u001b[0m",
      "\u001b[1;31mValueError\u001b[0m                                Traceback (most recent call last)",
      "Cell \u001b[1;32mIn[78], line 1\u001b[0m\n\u001b[1;32m----> 1\u001b[0m f2 \u001b[38;5;241m=\u001b[39m Field(\u001b[38;5;241m5\u001b[39m)\n\u001b[0;32m      2\u001b[0m \u001b[38;5;28mprint\u001b[39m(f\u001b[38;5;241m.\u001b[39mvalue)\n",
      "Cell \u001b[1;32mIn[75], line 4\u001b[0m, in \u001b[0;36mField.__init__\u001b[1;34m(self, value)\u001b[0m\n\u001b[0;32m      3\u001b[0m \u001b[38;5;28;01mdef\u001b[39;00m \u001b[38;5;21m__init__\u001b[39m(\u001b[38;5;28mself\u001b[39m, value):\n\u001b[1;32m----> 4\u001b[0m     \u001b[38;5;28mself\u001b[39m\u001b[38;5;241m.\u001b[39mvalue \u001b[38;5;241m=\u001b[39m value\n",
      "Cell \u001b[1;32mIn[75], line 23\u001b[0m, in \u001b[0;36mField.__setattr__\u001b[1;34m(self, name, value)\u001b[0m\n\u001b[0;32m     21\u001b[0m         \u001b[38;5;28mself\u001b[39m\u001b[38;5;241m.\u001b[39m\u001b[38;5;18m__dict__\u001b[39m[name] \u001b[38;5;241m=\u001b[39m value\n\u001b[0;32m     22\u001b[0m     \u001b[38;5;28;01melse\u001b[39;00m:\n\u001b[1;32m---> 23\u001b[0m         \u001b[38;5;28;01mraise\u001b[39;00m \u001b[38;5;167;01mValueError\u001b[39;00m(\u001b[38;5;124mf\u001b[39m\u001b[38;5;124m\"\u001b[39m\u001b[38;5;124mValue for \u001b[39m\u001b[38;5;132;01m{\u001b[39;00mname\u001b[38;5;132;01m}\u001b[39;00m\u001b[38;5;124m must be in range between 10-2000\u001b[39m\u001b[38;5;124m\"\u001b[39m)\n\u001b[0;32m     24\u001b[0m \u001b[38;5;28;01melif\u001b[39;00m \u001b[38;5;28misinstance\u001b[39m(value, \u001b[38;5;28mstr\u001b[39m):\n\u001b[0;32m     25\u001b[0m     \u001b[38;5;28mself\u001b[39m\u001b[38;5;241m.\u001b[39m\u001b[38;5;18m__dict__\u001b[39m[name] \u001b[38;5;241m=\u001b[39m value\n",
      "\u001b[1;31mValueError\u001b[0m: Value for value must be in range between 10-2000"
     ]
    }
   ],
   "source": [
    "f2 = Field(5)\n",
    "print(f.value)"
   ]
  },
  {
   "cell_type": "code",
   "execution_count": 79,
   "id": "b46f0864-02dc-48fb-b00f-e0f4abb3fbd4",
   "metadata": {},
   "outputs": [
    {
     "name": "stdout",
     "output_type": "stream",
     "text": [
      "Field(25)\n"
     ]
    }
   ],
   "source": [
    "f3 = Field(25)\n",
    "print(f3)"
   ]
  },
  {
   "cell_type": "code",
   "execution_count": null,
   "id": "a085d4e8-3de8-403d-ad00-4feeb4d6e77a",
   "metadata": {},
   "outputs": [],
   "source": []
  }
 ],
 "metadata": {
  "kernelspec": {
   "display_name": "Python 3 (ipykernel)",
   "language": "python",
   "name": "python3"
  },
  "language_info": {
   "codemirror_mode": {
    "name": "ipython",
    "version": 3
   },
   "file_extension": ".py",
   "mimetype": "text/x-python",
   "name": "python",
   "nbconvert_exporter": "python",
   "pygments_lexer": "ipython3",
   "version": "3.12.7"
  }
 },
 "nbformat": 4,
 "nbformat_minor": 5
}
