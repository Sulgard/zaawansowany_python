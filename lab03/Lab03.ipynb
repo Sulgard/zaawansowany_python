{
 "cells": [
  {
   "cell_type": "code",
   "execution_count": 5,
   "id": "0ab22063-f28a-4ba7-baa7-98e30c26d541",
   "metadata": {},
   "outputs": [],
   "source": [
    "from enum import Enum\n",
    "import inspect"
   ]
  },
  {
   "cell_type": "code",
   "execution_count": 6,
   "id": "113e081e-4055-45da-9e38-bd4240a6a401",
   "metadata": {},
   "outputs": [],
   "source": [
    "\n",
    "class FieldType(Enum):\n",
    "    INTEGER = 1\n",
    "    FLOAT = 2\n",
    "    STRING = 3 \n",
    "    DATE = 4\n",
    "\n",
    "\n",
    "class Field:\n",
    "\n",
    "    def __init__(self, field_type: FieldType):\n",
    "        self.field_type = field_type\n",
    "    \n",
    "    def get_fieldtype(self):\n",
    "        return self.field_type\n",
    "\n",
    "    def __str__(self):\n",
    "        return self.field_type.__class__.__name__\n",
    "\n",
    "class Model:\n",
    "    \n",
    "    def __init__(self, db_table=None):\n",
    "        if db_table is None:\n",
    "            self.db_table = f'db_{self.__class__.__name__.lower()}'\n",
    "        else:\n",
    "            self.db_table = db_table\n",
    "\n",
    "    def get_fields(self):\n",
    "        fields = {}\n",
    "        for name, obj in inspect.getmembers(self):\n",
    "            if isinstance(obj, Field):\n",
    "                fields[name] = obj.get_fieldtype()\n",
    "        return fields\n",
    "\n",
    "    def __setattr__(self, attr, val):\n",
    "        for name, obj in inspect.getmembers(self):\n",
    "            if name == attr and isinstance(obj, Field):\n",
    "                obj.value = val\n",
    "                return\n",
    "        super().__setattr__(attr, val)\n",
    "\n",
    "    @staticmethod\n",
    "    def generate_table_for_name(name: str):\n",
    "        \"\"\" metoda statyczna wzracająca nazwę tabeli dla przykładowej nazwy modelu \"\"\"\n",
    "        return f'db_{name.lower()}'\n",
    "        \n",
    "    @classmethod\n",
    "    def from_dict(cls, name: str, fields: dict[str, Field]):\n",
    "        # tu wykorzystać match case z mapowaniem słownika\n",
    "        for field in fields.items():\n",
    "            \n",
    "            match field:\n",
    "                case (str(), Field()):\n",
    "                    setattr(cls, field[0], field[1])\n",
    "        \n",
    "        model = cls()\n",
    "        model.db_table = f'db_{name.lower()}'\n",
    "        return model"
   ]
  },
  {
   "cell_type": "markdown",
   "id": "63bd537a-4aa5-4e53-84ed-8f07f0a41f02",
   "metadata": {},
   "source": [
    "## Zadanie 1"
   ]
  },
  {
   "cell_type": "code",
   "execution_count": 7,
   "id": "2a2e8094-0293-44ba-a16a-6e1a12036e46",
   "metadata": {},
   "outputs": [],
   "source": [
    "class Model:\n",
    "    def __init__(self, db_table=None):\n",
    "        if db_table is None:\n",
    "            self.db_table = f'db_{self.__class__.__name__.lower()}'\n",
    "        else:\n",
    "            self.db_table = generate_table_for_name(db_table.name)\n",
    "\n",
    "    def get_fields(self):\n",
    "        fields = {}\n",
    "        for name, obj in inspect.getmembers(self):\n",
    "            if isinstance(obj, Field):\n",
    "                fields[name] = obj.get_fieldtype()\n",
    "            return fields\n",
    "    def __setattr__(self, attr, val):\n",
    "        for name, obj in inspect.getmembers(self):\n",
    "            if name == attr and isinstance(obj, Field):\n",
    "                obj.value = val\n",
    "                return\n",
    "        super().__setattr__(attr, val)\n",
    "\n",
    "    @staticmethod\n",
    "    def generate_table_for_name(name: str):\n",
    "        \"\"\" metoda statyczna wzracająca nazwę tabeli dla przykładowej nazwy modelu \"\"\"\n",
    "        return f'db_{name.lower()}'\n",
    "        \n",
    "    @classmethod\n",
    "    def from_dict(cls, name: str, fields: dict[str, Field]):\n",
    "        # tu wykorzystać match case z mapowaniem słownika\n",
    "        for field in fields.items():\n",
    "            \n",
    "            match field:\n",
    "                case (str(), Field()):\n",
    "                    setattr(cls, field[0], field[1])\n",
    "        \n",
    "        model = cls()\n",
    "        model.db_table = f'db_{name.lower()}'\n",
    "        return model"
   ]
  },
  {
   "cell_type": "code",
   "execution_count": 8,
   "id": "46c3893b-6a0d-47ff-bf87-082470631308",
   "metadata": {},
   "outputs": [],
   "source": [
    "class Person(Model):\n",
    "    id = Field(FieldType.INTEGER)\n",
    "    firstname = Field(FieldType.STRING)\n",
    "    lastname = Field(FieldType.STRING)\n",
    "    age = Field(FieldType.INTEGER)\n",
    "\n",
    "    def _get_field_value(self):\n",
    "        pass\n",
    "    def _set_field_value(self, val):\n",
    "        pass"
   ]
  },
  {
   "cell_type": "code",
   "execution_count": 9,
   "id": "b91d497d-80fd-49d0-b786-42520ec25322",
   "metadata": {},
   "outputs": [
    {
     "data": {
      "text/plain": [
       "'db_person'"
      ]
     },
     "execution_count": 9,
     "metadata": {},
     "output_type": "execute_result"
    }
   ],
   "source": [
    "p = Person()\n",
    "p.db_table"
   ]
  },
  {
   "cell_type": "markdown",
   "id": "a6a33626-44d6-4332-a397-6e38aaefe002",
   "metadata": {},
   "source": [
    "## Zadanie 2"
   ]
  },
  {
   "cell_type": "code",
   "execution_count": 10,
   "id": "0b746103-5e17-497a-b6bd-39b63e07260e",
   "metadata": {},
   "outputs": [],
   "source": [
    "\n",
    "class Field:\n",
    "\n",
    "    def __init__(self, field_type: FieldType):\n",
    "        self.field_type = field_type\n",
    "        self.inner = FieldType(field_type)\n",
    "    \n",
    "    def get_fieldtype(self):\n",
    "        return self.field_type\n",
    "\n",
    "    def __str__(self):\n",
    "        return self.field_type.__class__.__name__\n",
    "        \n",
    "        class FieldType(Enum):\n",
    "            INTEGER = 1\n",
    "            FLOAT = 2\n",
    "            STRING = 3\n",
    "            DATE = 4"
   ]
  },
  {
   "cell_type": "code",
   "execution_count": 11,
   "id": "43341622-01ac-499e-aac0-bd36d7e9d8dc",
   "metadata": {},
   "outputs": [],
   "source": [
    "f = Field(1)"
   ]
  },
  {
   "cell_type": "code",
   "execution_count": 12,
   "id": "fc0ae59a-96ad-41c4-a8b7-cce696078527",
   "metadata": {},
   "outputs": [
    {
     "data": {
      "text/plain": [
       "1"
      ]
     },
     "execution_count": 12,
     "metadata": {},
     "output_type": "execute_result"
    }
   ],
   "source": [
    "f.inner.INTEGER.value"
   ]
  },
  {
   "cell_type": "code",
   "execution_count": 13,
   "id": "38d4cd4a-4981-45ca-90ab-2fe73b5f42fb",
   "metadata": {},
   "outputs": [
    {
     "name": "stdout",
     "output_type": "stream",
     "text": [
      "1\n"
     ]
    }
   ],
   "source": [
    "print(f.get_fieldtype())"
   ]
  },
  {
   "cell_type": "code",
   "execution_count": 14,
   "id": "a689c273-b2cc-472e-a37c-3e93e998658e",
   "metadata": {},
   "outputs": [],
   "source": [
    "from abc import ABC, abstractmethod\n",
    "\n",
    "\n",
    "class Field(ABC):\n",
    "\n",
    "    def __init__(self):\n",
    "        self.value = None\n",
    "\n",
    "    def get_fieldtype(self):\n",
    "        return self.__class__.__name__\n",
    "\n",
    "    def __setatrr__(self, attr, val):\n",
    "        if attr == 'value':\n",
    "            self._set_field_value(val)\n",
    "        else:\n",
    "            super().__setattr__(self,attr,val)\n",
    "\n",
    "    @abstractmethod\n",
    "    def _get_field_value(self):\n",
    "        ...\n",
    "\n",
    "    @abstractmethod\n",
    "    def _set_field_value(self, val):\n",
    "        ...\n",
    "\n",
    "    def __str__(self):\n",
    "        return self.__class__.__name__\n",
    "\n",
    "\n",
    "class StringField(Field):\n",
    "\n",
    "    def _set_field_value(self, val):\n",
    "        if isinstance(val, str):\n",
    "            self.value = val\n",
    "\n",
    "    def _get_field_value(self):\n",
    "        return self.value"
   ]
  },
  {
   "cell_type": "code",
   "execution_count": 15,
   "id": "046296bc-8bef-4ace-954a-034b51831792",
   "metadata": {},
   "outputs": [
    {
     "ename": "TypeError",
     "evalue": "Can't instantiate abstract class Field without an implementation for abstract methods '_get_field_value', '_set_field_value'",
     "output_type": "error",
     "traceback": [
      "\u001b[1;31m---------------------------------------------------------------------------\u001b[0m",
      "\u001b[1;31mTypeError\u001b[0m                                 Traceback (most recent call last)",
      "Cell \u001b[1;32mIn[15], line 1\u001b[0m\n\u001b[1;32m----> 1\u001b[0m field \u001b[38;5;241m=\u001b[39m Field()\n",
      "\u001b[1;31mTypeError\u001b[0m: Can't instantiate abstract class Field without an implementation for abstract methods '_get_field_value', '_set_field_value'"
     ]
    }
   ],
   "source": [
    "field = Field()"
   ]
  },
  {
   "cell_type": "markdown",
   "id": "9f8ad8a8-1ffa-4809-b648-b0b082b81ea8",
   "metadata": {},
   "source": [
    "## Zadanie 3\n"
   ]
  },
  {
   "cell_type": "code",
   "execution_count": 1,
   "id": "ea9b2fd6-c035-487f-b2b0-11801c94ac2a",
   "metadata": {},
   "outputs": [],
   "source": [
    "from abc import ABC, abstractmethod\n",
    "\n",
    "class Field(ABC):\n",
    "\n",
    "    def __init__(self):\n",
    "        self.value = None\n",
    "\n",
    "    def get_fieldtype(self):\n",
    "        return self.__class__.__name__\n",
    "\n",
    "    def __setatrr__(self, attr, val):\n",
    "        if attr == 'value':\n",
    "            self._set_field_value(val)\n",
    "        else:\n",
    "            super().__setattr__(self,attr,val)\n",
    "\n",
    "    @abstractmethod\n",
    "    def __get_field_value(self):\n",
    "        ...\n",
    "\n",
    "    @abstractmethod\n",
    "    def __set_field_value(self, val):\n",
    "        ...\n",
    "\n",
    "    def __str__(self):\n",
    "        return self.__class__.__name__\n",
    "\n",
    "\n",
    "class StringField(Field):\n",
    "\n",
    "    def __set_field_value(self, val):\n",
    "        if isinstance(val, str):\n",
    "            self.value = val\n",
    "\n",
    "    def __get_field_value(self):\n",
    "        return self.value"
   ]
  },
  {
   "cell_type": "code",
   "execution_count": 16,
   "id": "6f96b5d6-456e-4118-8e33-d6cac5f5e333",
   "metadata": {},
   "outputs": [],
   "source": [
    "class Model:\n",
    "    \n",
    "    def __init__(self, db_table=None):\n",
    "        if db_table is None:\n",
    "            self.db_table = f'db_{self.__class__.__name__.lower()}'\n",
    "        else:\n",
    "            self.db_table = db_table\n",
    "\n",
    "    def get_fields(self):\n",
    "        fields = {}\n",
    "        for name, obj in inspect.getmembers(self):\n",
    "            if isinstance(obj, Field):\n",
    "                fields[name] = obj.get_fieldtype()\n",
    "        return fields\n",
    "\n",
    "    def __setattr__(self, attr, val):\n",
    "        for name, obj in inspect.getmembers(self):\n",
    "            if name == attr and isinstance(obj, Field):\n",
    "                obj.value = val\n",
    "                return\n",
    "        super().__setattr__(attr, val)\n",
    "\n",
    "    @staticmethod\n",
    "    def generate_table_for_name(name: str):\n",
    "        \"\"\" metoda statyczna wzracająca nazwę tabeli dla przykładowej nazwy modelu \"\"\"\n",
    "        return f'db_{name.lower()}'\n",
    "        \n",
    "    @classmethod\n",
    "    def from_dict(cls, name: str, fields: dict[str, Field]):\n",
    "        # tu wykorzystać match case z mapowaniem słownika\n",
    "        for field in fields.items():\n",
    "            \n",
    "            match field:\n",
    "                case (str(), Field()):\n",
    "                    setattr(cls, field[0], field[1])\n",
    "        \n",
    "        model = cls()\n",
    "        model.db_table = f'db_{name.lower()}'\n",
    "        return model"
   ]
  },
  {
   "cell_type": "code",
   "execution_count": 17,
   "id": "00460024-e649-4732-909d-0e0dbf635adf",
   "metadata": {},
   "outputs": [],
   "source": [
    "class Book(Model):\n",
    "    author = StringField()\n",
    "    title = StringField()"
   ]
  },
  {
   "cell_type": "code",
   "execution_count": 18,
   "id": "f392b0d5-6f6a-4e49-8859-a7425d4ca6b6",
   "metadata": {},
   "outputs": [],
   "source": [
    "book = Book()"
   ]
  },
  {
   "cell_type": "code",
   "execution_count": 23,
   "id": "27abc39f-3660-4c2b-93d0-b9c23bdb2465",
   "metadata": {},
   "outputs": [
    {
     "name": "stdout",
     "output_type": "stream",
     "text": [
      "StringField\n",
      "StringField\n"
     ]
    }
   ],
   "source": [
    "print(book.title)\n",
    "print(book.author)"
   ]
  },
  {
   "cell_type": "code",
   "execution_count": 24,
   "id": "ca3f107d-fd88-4dce-b352-0ac4be1d83cb",
   "metadata": {},
   "outputs": [
    {
     "name": "stdout",
     "output_type": "stream",
     "text": [
      "StringField\n"
     ]
    }
   ],
   "source": [
    "book.title = 'Ostatni Strażnik'\n",
    "print(book.title)"
   ]
  },
  {
   "cell_type": "code",
   "execution_count": 21,
   "id": "897bb1eb-10c8-4776-bf90-4b8189c7832c",
   "metadata": {},
   "outputs": [
    {
     "data": {
      "text/plain": [
       "'StringField'"
      ]
     },
     "execution_count": 21,
     "metadata": {},
     "output_type": "execute_result"
    }
   ],
   "source": [
    "book.title.get_fieldtype()"
   ]
  },
  {
   "cell_type": "code",
   "execution_count": 25,
   "id": "27a08a17-c685-4f2d-9a07-485355cf7d2c",
   "metadata": {},
   "outputs": [
    {
     "name": "stdout",
     "output_type": "stream",
     "text": [
      "StringField\n"
     ]
    }
   ],
   "source": [
    "print(book.title)"
   ]
  },
  {
   "cell_type": "markdown",
   "id": "46b3c859-b88b-4724-82a3-22f8b13950db",
   "metadata": {},
   "source": [
    "## Zadanie 4 "
   ]
  },
  {
   "cell_type": "code",
   "execution_count": 95,
   "id": "4486dff8-1ab8-4395-957b-37373e247006",
   "metadata": {},
   "outputs": [],
   "source": [
    "class Field(ABC):\n",
    "\n",
    "    def __init__(self):\n",
    "        self.value = None\n",
    "\n",
    "    def get_fieldtype(self):\n",
    "        return self.__class__.__name__\n",
    "\n",
    "    def __setatrr__(self, attr, val):\n",
    "        if attr == 'value':\n",
    "            self._set_field_value(val)\n",
    "        else:\n",
    "            super().__setattr__(self,attr,val)\n",
    "\n",
    "    @abstractmethod\n",
    "    def _get_field_value(self):\n",
    "        ...\n",
    "\n",
    "    @abstractmethod\n",
    "    def _set_field_value(self, val):\n",
    "        ...\n",
    "\n",
    "    def __str__(self):\n",
    "        return self.__class__.__name__\n",
    "\n",
    "\n",
    "class StringField(Field):\n",
    "\n",
    "    def _set_field_value(self, val):\n",
    "        if isinstance(val, str):\n",
    "            self.value = val\n",
    "\n",
    "    def _get_field_value(self):\n",
    "        return self.value"
   ]
  },
  {
   "cell_type": "code",
   "execution_count": 126,
   "id": "ae6f6f98-c08f-4754-aaf3-e8a3ea1b0303",
   "metadata": {},
   "outputs": [],
   "source": [
    "class Field(ABC):\n",
    "\n",
    "    def __init__(self):\n",
    "        self.value = None\n",
    "        \n",
    "    def get_fieldtype(self):\n",
    "        return self.__class__.__name__\n",
    "\n",
    "    def __setatrr__(self, attr, val):\n",
    "        if attr == 'value':\n",
    "            self._set_field_value(val)\n",
    "        else:\n",
    "            super().__setattr__(self,attr,val)\n",
    "\n",
    "    @abstractmethod\n",
    "    def _get_field_value(self):\n",
    "        ...\n",
    "\n",
    "    @abstractmethod\n",
    "    def _set_field_value(self, val):\n",
    "        ...\n",
    "\n",
    "    def __str__(self):\n",
    "        return self.__class__.__name__\n",
    "\n",
    "\n",
    "class StringField(Field):\n",
    "\n",
    "    def __get__(self, obj, objtype=None):\n",
    "        return self._get_field_value()\n",
    "\n",
    "    def _set_field_value(self, val):\n",
    "        if isinstance(val, str):\n",
    "            self._value = val\n",
    "\n",
    "    def _get_field_value(self):\n",
    "        return self._value"
   ]
  },
  {
   "cell_type": "code",
   "execution_count": 127,
   "id": "7a8bbc0f-0958-46a6-ae05-50a7ba48a85b",
   "metadata": {},
   "outputs": [],
   "source": [
    "class Movie(Model):\n",
    "    title = StringField()\n",
    "    director = StringField()"
   ]
  },
  {
   "cell_type": "code",
   "execution_count": 128,
   "id": "7601cda2-1ddd-43b9-8658-603d3b8b1139",
   "metadata": {},
   "outputs": [],
   "source": [
    "m1 = Movie()\n",
    "m1.title = \"Predator\"\n",
    "m1.director = \"John McTiernan\""
   ]
  },
  {
   "cell_type": "code",
   "execution_count": 129,
   "id": "5a2bc5ce-935f-4e0b-bbd8-18a5dc8744bc",
   "metadata": {},
   "outputs": [
    {
     "data": {
      "text/plain": [
       "'Predator'"
      ]
     },
     "execution_count": 129,
     "metadata": {},
     "output_type": "execute_result"
    }
   ],
   "source": [
    "m1.title"
   ]
  },
  {
   "cell_type": "code",
   "execution_count": 130,
   "id": "456e3bf7-a25f-4e58-a19c-91cecb35d49f",
   "metadata": {},
   "outputs": [
    {
     "data": {
      "text/plain": [
       "'John McTiernan'"
      ]
     },
     "execution_count": 130,
     "metadata": {},
     "output_type": "execute_result"
    }
   ],
   "source": [
    "m1.director"
   ]
  },
  {
   "cell_type": "markdown",
   "id": "616df207-e2ce-4810-b655-90c6ade6fac8",
   "metadata": {},
   "source": [
    "## Zadanie 5"
   ]
  },
  {
   "cell_type": "code",
   "execution_count": 133,
   "id": "992d9a44-c369-4e09-a503-4029557e51d7",
   "metadata": {},
   "outputs": [],
   "source": [
    "from abc import ABC, abstractmethod\n",
    "from datetime import date\n",
    "\n",
    "\n",
    "class Field(ABC):\n",
    "\n",
    "    def __init__(self):\n",
    "        self.value = None\n",
    "\n",
    "    def get_fieldtype(self):\n",
    "        return self.__class__.__name__\n",
    "\n",
    "    def __setatrr__(self, attr, val):\n",
    "        if attr == 'value':\n",
    "            self._set_field_value(val)\n",
    "        else:\n",
    "            super().__setattr__(self,attr,val)\n",
    "\n",
    "    @abstractmethod\n",
    "    def _get_field_value(self):\n",
    "        ...\n",
    "\n",
    "    @abstractmethod\n",
    "    def _set_field_value(self, val):\n",
    "        ...\n",
    "\n",
    "    def __str__(self):\n",
    "        return self.__class__.__name__\n",
    "\n",
    "\n",
    "class StringField(Field):\n",
    "\n",
    "    def _set_field_value(self, val):\n",
    "        if isinstance(val, str):\n",
    "            self.value = val\n",
    "\n",
    "    def _get_field_value(self):\n",
    "        return self.value\n",
    "\n",
    "class IntegerField(Field):\n",
    "\n",
    "    def _set_field_value(self, val):\n",
    "        if isinstance(val, int):\n",
    "            self.value = val\n",
    "\n",
    "    def _get_field_value(self):\n",
    "        return self.value\n",
    "\n",
    "class DateField(Field):\n",
    "\n",
    "    def _set_field_value(self, val):\n",
    "        if isinstance(val, date):\n",
    "            self.value = val\n",
    "\n",
    "    def _get_field_value(self):\n",
    "        return self.value"
   ]
  },
  {
   "cell_type": "code",
   "execution_count": 134,
   "id": "ecc1fb3d-a7c0-471b-87d4-2d15fe3893ec",
   "metadata": {},
   "outputs": [],
   "source": [
    "class Appointment(Model):\n",
    "    client_id = IntegerField()\n",
    "    date_of_appointment = DateField()"
   ]
  },
  {
   "cell_type": "code",
   "execution_count": 135,
   "id": "70fc30dd-9558-4bf1-bb08-323dd2ac7374",
   "metadata": {},
   "outputs": [],
   "source": [
    "a = Appointment()\n",
    "a.client_id = 23\n",
    "a.date_of_appointment = date(2025, 3, 16)"
   ]
  },
  {
   "cell_type": "code",
   "execution_count": 136,
   "id": "82c445ca-4c5d-412e-b392-5e03cfeb9185",
   "metadata": {},
   "outputs": [
    {
     "data": {
      "text/plain": [
       "<__main__.IntegerField at 0x29558285ee0>"
      ]
     },
     "execution_count": 136,
     "metadata": {},
     "output_type": "execute_result"
    }
   ],
   "source": [
    "a.client_id"
   ]
  },
  {
   "cell_type": "code",
   "execution_count": 137,
   "id": "4b74d2cf-759e-4b4b-a597-c147cffb175f",
   "metadata": {},
   "outputs": [
    {
     "data": {
      "text/plain": [
       "<__main__.DateField at 0x295572d2960>"
      ]
     },
     "execution_count": 137,
     "metadata": {},
     "output_type": "execute_result"
    }
   ],
   "source": [
    "a.date_of_appointment"
   ]
  },
  {
   "cell_type": "markdown",
   "id": "4f3c8611-bab8-4033-bee3-4289b708b290",
   "metadata": {},
   "source": [
    "## Zadanie 6"
   ]
  },
  {
   "cell_type": "code",
   "execution_count": 146,
   "id": "19de19fd-0837-4005-ae90-df2faca3fec3",
   "metadata": {},
   "outputs": [],
   "source": [
    "# DOMYSLNA KLASA\n",
    "from enum import Enum\n",
    "import inspect\n",
    "\n",
    "\n",
    "class FieldType(Enum):\n",
    "    INTEGER = 1\n",
    "    FLOAT = 2\n",
    "    STRING = 3 \n",
    "    DATE = 4\n",
    "\n",
    "\n",
    "class Field:\n",
    "\n",
    "    def __init__(self, field_type: FieldType):\n",
    "        self.field_type = field_type\n",
    "    \n",
    "    def get_fieldtype(self):\n",
    "        return self.field_type\n",
    "\n",
    "    def __str__(self):\n",
    "        return self.field_type.__class__.__name__\n",
    "\n",
    "\n",
    "class Model:\n",
    "    \n",
    "    def __init__(self, db_table=None):\n",
    "        if db_table is None:\n",
    "            self.db_table = f'db_{self.__class__.__name__.lower()}'\n",
    "        else:\n",
    "            self.db_table = db_table\n",
    "\n",
    "    def get_fields(self):\n",
    "        fields = {}\n",
    "        for name, obj in inspect.getmembers(self):\n",
    "            if isinstance(obj, Field):\n",
    "                fields[name] = obj.get_fieldtype()\n",
    "        return fields\n",
    "\n",
    "    def __setattr__(self, attr, val):\n",
    "        for name, obj in inspect.getmembers(self):\n",
    "            if name == attr and isinstance(obj, Field):\n",
    "                obj.value = val\n",
    "                return\n",
    "        super().__setattr__(attr, val)\n",
    "\n",
    "    def save(self):\n",
    "        cols = []\n",
    "        values = []\n",
    "\n",
    "    for col in self.get_fields():\n",
    "        if col is not None:\n",
    "            cols.append(col)\n",
    "\n",
    "    \n",
    "\n",
    "    @staticmethod\n",
    "    def generate_table_for_name(name: str):\n",
    "        \"\"\" metoda statyczna wzracająca nazwę tabeli dla przykładowej nazwy modelu \"\"\"\n",
    "        return f'db_{name.lower()}'\n",
    "        \n",
    "    @classmethod\n",
    "    def from_dict(cls, name: str, fields: dict[str, Field]):\n",
    "        # tu wykorzystać match case z mapowaniem słownika\n",
    "        for field in fields.items():\n",
    "            \n",
    "            match field:\n",
    "                case (str(), Field()):\n",
    "                    setattr(cls, field[0], field[1])\n",
    "        \n",
    "        model = cls()\n",
    "        model.db_table = f'db_{name.lower()}'\n",
    "        return model\n",
    "        "
   ]
  },
  {
   "cell_type": "code",
   "execution_count": 147,
   "id": "5fe902ca-7e70-4dc1-9069-725207fa9423",
   "metadata": {},
   "outputs": [],
   "source": [
    "model = Model()\n",
    "model.id = Field(FieldType.INTEGER)"
   ]
  },
  {
   "cell_type": "code",
   "execution_count": 149,
   "id": "305f65fc-ed5a-4937-874d-c0db36cb9133",
   "metadata": {},
   "outputs": [
    {
     "data": {
      "text/plain": [
       "{'id': <FieldType.INTEGER: 1>}"
      ]
     },
     "execution_count": 149,
     "metadata": {},
     "output_type": "execute_result"
    }
   ],
   "source": [
    "model.get_fields()"
   ]
  },
  {
   "cell_type": "code",
   "execution_count": 150,
   "id": "db4aeb7e-763f-4926-8e2c-a575b3fd32d1",
   "metadata": {},
   "outputs": [],
   "source": [
    "class Movie(Model):\n",
    "    director = StringField()\n",
    "    title = StringField()"
   ]
  },
  {
   "cell_type": "code",
   "execution_count": 152,
   "id": "9c46c955-1a60-42ac-98b8-7a5bcc2b17eb",
   "metadata": {},
   "outputs": [],
   "source": [
    "m2 = Movie()\n",
    "m2.title = \"Predator\"\n",
    "m2.director = \"John McTiernan\""
   ]
  },
  {
   "cell_type": "code",
   "execution_count": 153,
   "id": "04905669-c264-4457-8704-30f6d0b873aa",
   "metadata": {},
   "outputs": [
    {
     "data": {
      "text/plain": [
       "{}"
      ]
     },
     "execution_count": 153,
     "metadata": {},
     "output_type": "execute_result"
    }
   ],
   "source": [
    "m2.get_fields()"
   ]
  },
  {
   "cell_type": "code",
   "execution_count": 154,
   "id": "6ceac42f-604e-45b4-8bea-738fc29b475a",
   "metadata": {},
   "outputs": [],
   "source": [
    "m2.id = Field(FieldType.INTEGER)"
   ]
  },
  {
   "cell_type": "code",
   "execution_count": 155,
   "id": "8e37461a-38bd-438e-b473-1b84138954d1",
   "metadata": {},
   "outputs": [
    {
     "data": {
      "text/plain": [
       "{'id': <FieldType.INTEGER: 1>}"
      ]
     },
     "execution_count": 155,
     "metadata": {},
     "output_type": "execute_result"
    }
   ],
   "source": [
    "m2.get_fields()"
   ]
  },
  {
   "cell_type": "markdown",
   "id": "883f6445-1e20-4746-9696-be8c80718d8a",
   "metadata": {},
   "source": [
    "## Zadanie 7"
   ]
  },
  {
   "cell_type": "code",
   "execution_count": 167,
   "id": "dc957a86-89a1-4cd2-b65c-066adc9f9799",
   "metadata": {},
   "outputs": [],
   "source": [
    "from abc import ABC, abstractmethod\n",
    "from collections.abc import MutableSequence\n",
    "\n",
    "class Cart(MutableSequence):\n",
    "    def __init__(self, initlist=None):\n",
    "        self.data = []\n",
    "        if initlist is not None:\n",
    "            if type(initlist) == type(self.data):\n",
    "                self.data[:] = initlist\n",
    "            elif isinstance(initlist, Cart):\n",
    "                self.data[:] = initlist.data[:]\n",
    "            else:\n",
    "                self.data = list(initlist)\n",
    "                \n",
    "    # __getitem__, __setitem__, __delitem__, __len__, insert\n",
    "     \n",
    "    def __getitem__(self, i):\n",
    "        if isinstance(i, slice):\n",
    "            return self.__class__(self.data[i])\n",
    "        else:\n",
    "            return self.data[i]\n",
    "\n",
    "    def __setitem__(self, i, item):\n",
    "        self.data[i] = item\n",
    "\n",
    "    def __delitem__(self, i):\n",
    "        del self.data[i]\n",
    "\n",
    "    def __len__(self):\n",
    "        return len(self.data)\n",
    "\n",
    "    def insert(self, i, item):\n",
    "        self.data.insert(i, item)\n",
    "    "
   ]
  },
  {
   "cell_type": "code",
   "execution_count": 169,
   "id": "5dce65e8-235c-436e-8cff-a2d09b96adac",
   "metadata": {},
   "outputs": [],
   "source": [
    "items = [\"helmet\", \"sword\", \"shield\"]\n",
    "c = Cart(items)"
   ]
  },
  {
   "cell_type": "code",
   "execution_count": 171,
   "id": "c26c734c-b1ba-4490-a7b6-ca2d0b872243",
   "metadata": {},
   "outputs": [
    {
     "name": "stdout",
     "output_type": "stream",
     "text": [
      "sword\n"
     ]
    }
   ],
   "source": [
    "print(c[1])"
   ]
  },
  {
   "cell_type": "code",
   "execution_count": 172,
   "id": "5ab7c214-1c3d-4e5d-b8c0-632d8249cc12",
   "metadata": {},
   "outputs": [],
   "source": [
    "c.__delitem__(1)"
   ]
  },
  {
   "cell_type": "code",
   "execution_count": 173,
   "id": "e6132c9a-8b9c-40d7-a422-c00a3dbce648",
   "metadata": {},
   "outputs": [
    {
     "name": "stdout",
     "output_type": "stream",
     "text": [
      "shield\n"
     ]
    }
   ],
   "source": [
    "print(c[1])"
   ]
  },
  {
   "cell_type": "code",
   "execution_count": 192,
   "id": "3973df8b-f959-48ff-8c26-22af471c05a1",
   "metadata": {},
   "outputs": [],
   "source": [
    "from collections.abc import Collection\n",
    "\n",
    "class Week(Collection):\n",
    "    def __init__(self):\n",
    "        self.days_of_week = ['Monday', 'Tuesday', 'Wednesday', 'Thursday', 'Friday', 'Saturday', 'Sunday']\n",
    "    #__contains__, __iter__, __len__\n",
    "\n",
    "    def __len__(self):\n",
    "        return len(self.days_of_week)\n",
    "\n",
    "    def __iter__(self):\n",
    "        return iter(self.days_of_week)\n",
    "\n",
    "    def __contains__(self, param):\n",
    "        return param in self.days_of_week\n"
   ]
  },
  {
   "cell_type": "code",
   "execution_count": 193,
   "id": "030e13a7-a5a0-48e9-bdf6-2cd966ce1d06",
   "metadata": {},
   "outputs": [],
   "source": [
    "w = Week()"
   ]
  },
  {
   "cell_type": "code",
   "execution_count": 194,
   "id": "78d0a5ac-7ec8-48b9-8731-b7100a3c6094",
   "metadata": {},
   "outputs": [
    {
     "name": "stdout",
     "output_type": "stream",
     "text": [
      "['Monday', 'Tuesday', 'Wednesday', 'Thursday', 'Friday', 'Saturday', 'Sunday']\n"
     ]
    }
   ],
   "source": [
    "print(w.days_of_week)"
   ]
  },
  {
   "cell_type": "code",
   "execution_count": 195,
   "id": "f13bac52-f206-4236-9763-72d0ddd9fb40",
   "metadata": {},
   "outputs": [
    {
     "name": "stdout",
     "output_type": "stream",
     "text": [
      "True\n"
     ]
    }
   ],
   "source": [
    "print(w.__contains__('Monday'))"
   ]
  },
  {
   "cell_type": "code",
   "execution_count": 196,
   "id": "18560286-df98-447a-ba91-02abc81041fb",
   "metadata": {},
   "outputs": [
    {
     "name": "stdout",
     "output_type": "stream",
     "text": [
      "False\n"
     ]
    }
   ],
   "source": [
    "print(w.__contains__('Poniedziałek'))"
   ]
  },
  {
   "cell_type": "code",
   "execution_count": 202,
   "id": "7c2fb572-6afb-4bca-9f74-0ccc886fa987",
   "metadata": {},
   "outputs": [
    {
     "name": "stdout",
     "output_type": "stream",
     "text": [
      "7\n"
     ]
    }
   ],
   "source": [
    "print(len(w))"
   ]
  },
  {
   "cell_type": "code",
   "execution_count": 207,
   "id": "8c8304a9-1e1a-4a4b-bb48-2e8949908237",
   "metadata": {},
   "outputs": [],
   "source": [
    "x = [day for day in w.days_of_week]"
   ]
  },
  {
   "cell_type": "code",
   "execution_count": 208,
   "id": "caf48a80-9650-4ad4-8527-b17cd7ef85ba",
   "metadata": {},
   "outputs": [
    {
     "name": "stdout",
     "output_type": "stream",
     "text": [
      "['Monday', 'Tuesday', 'Wednesday', 'Thursday', 'Friday', 'Saturday', 'Sunday']\n"
     ]
    }
   ],
   "source": [
    "print(x)"
   ]
  },
  {
   "cell_type": "code",
   "execution_count": null,
   "id": "a4541065-5729-40ce-83d8-89571e684e63",
   "metadata": {},
   "outputs": [],
   "source": []
  }
 ],
 "metadata": {
  "kernelspec": {
   "display_name": "Python 3 (ipykernel)",
   "language": "python",
   "name": "python3"
  },
  "language_info": {
   "codemirror_mode": {
    "name": "ipython",
    "version": 3
   },
   "file_extension": ".py",
   "mimetype": "text/x-python",
   "name": "python",
   "nbconvert_exporter": "python",
   "pygments_lexer": "ipython3",
   "version": "3.12.7"
  }
 },
 "nbformat": 4,
 "nbformat_minor": 5
}
